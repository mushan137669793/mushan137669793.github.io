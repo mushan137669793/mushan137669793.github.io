{
 "cells": [
  {
   "cell_type": "code",
   "execution_count": 1,
   "id": "a324c4ad-f232-4c00-a826-c63784fbd920",
   "metadata": {
    "tags": []
   },
   "outputs": [],
   "source": [
    "\n",
    "import torch\n",
    "from glob import glob\n",
    "from tqdm import tqdm\n",
    "import torch\n",
    "import numpy as np\n",
    "import copy\n",
    "import math\n",
    "import torch\n",
    "from torch import nn\n",
    "from torch.nn import functional as F\n",
    "from IPython.display import Audio \n",
    "import random\n",
    "from scipy.io.wavfile import write, read\n",
    "import shutil\n",
    "import librosa   \n",
    "import string\n",
    "import torchaudio\n",
    "from collections import defaultdict\n",
    "from p_tqdm import p_umap\n",
    "import subprocess\n",
    "\n",
    "\n",
    "def pro(args):\n",
    "    # FFmpeg命令，包括调整音频通道为1（单声道），采样率设置为24000Hz\n",
    "    # 添加-y参数默认覆盖输出文件，使用-loglevel error只显示错误信息\n",
    "    input_file, output_file = args\n",
    "    command = [\n",
    "        'ffmpeg',\n",
    "        '-y',  # 默认覆盖已存在的输出文件\n",
    "        '-loglevel', 'error',  # 仅显示错误信息\n",
    "        '-i', input_file,  # 输入文件\n",
    "        '-ac', '1',  # 设置音频通道为1（单声道）\n",
    "        '-ar', '16000',  # 设置采样率为24000Hz\n",
    "        output_file  # 输出文件\n",
    "    ]\n",
    "\n",
    "    # 运行FFmpeg命令\n",
    "    subprocess.run(command, check=True)\n",
    "    return None"
   ]
  },
  {
   "cell_type": "code",
   "execution_count": 2,
   "id": "c3b837fe-a15b-4f28-a65c-2b30359bf917",
   "metadata": {
    "tags": []
   },
   "outputs": [
    {
     "data": {
      "text/plain": [
       "(559, 48000)"
      ]
     },
     "execution_count": 2,
     "metadata": {},
     "output_type": "execute_result"
    }
   ],
   "source": [
    "# wavs = glob(\"/home/mushan/data/wave/ftspeech/*/*.wav\")\n",
    "wavs = glob(\"./audio/*/*.flac\")\n",
    "data, sr = torchaudio.load(wavs[0])\n",
    "len(wavs), sr"
   ]
  },
  {
   "cell_type": "code",
   "execution_count": 3,
   "id": "20e3057a-3457-4be3-a6f1-9a2e6323fd0b",
   "metadata": {
    "tags": []
   },
   "outputs": [
    {
     "data": {
      "text/plain": [
       "(559,\n",
       " ['./audio/ita_ita/7372_6589_000053.our.flac',\n",
       "  './audio/ita_ita/7372_6589_000053.our.16.flac'])"
      ]
     },
     "execution_count": 3,
     "metadata": {},
     "output_type": "execute_result"
    }
   ],
   "source": [
    "tasks = [[i, i.replace(\".flac\", \".16.flac\")] for i in wavs]\n",
    "len(tasks), tasks[0]"
   ]
  },
  {
   "cell_type": "code",
   "execution_count": 4,
   "id": "6c2957cb-4bcd-43a6-ad51-7060caa0171d",
   "metadata": {
    "tags": []
   },
   "outputs": [
    {
     "data": {
      "application/vnd.jupyter.widget-view+json": {
       "model_id": "f8736b667f724dabaff5dc81e6ee78e0",
       "version_major": 2,
       "version_minor": 0
      },
      "text/plain": [
       "  0%|          | 0/559 [00:00<?, ?it/s]"
      ]
     },
     "metadata": {},
     "output_type": "display_data"
    }
   ],
   "source": [
    "random.shuffle(tasks)\n",
    "res = p_umap(pro, tasks, num_cpus = 28)"
   ]
  },
  {
   "cell_type": "code",
   "execution_count": 5,
   "id": "4f60c98e-1d3d-4e03-ae32-98de6655ea87",
   "metadata": {
    "tags": []
   },
   "outputs": [],
   "source": [
    "for i in tasks:\n",
    "    try:\n",
    "        os.remove(i[0])\n",
    "    except:\n",
    "        pass\n",
    "    \n",
    "    shutil.move(i[1], i[1].replace('.16.flac', '.flac'))"
   ]
  },
  {
   "cell_type": "code",
   "execution_count": null,
   "id": "40a347ea-8971-4805-9b7a-5ecae5af534d",
   "metadata": {},
   "outputs": [],
   "source": []
  }
 ],
 "metadata": {
  "kernelspec": {
   "display_name": "Python 3 (ipykernel)",
   "language": "python",
   "name": "python3"
  },
  "language_info": {
   "codemirror_mode": {
    "name": "ipython",
    "version": 3
   },
   "file_extension": ".py",
   "mimetype": "text/x-python",
   "name": "python",
   "nbconvert_exporter": "python",
   "pygments_lexer": "ipython3",
   "version": "3.8.16"
  }
 },
 "nbformat": 4,
 "nbformat_minor": 5
}
