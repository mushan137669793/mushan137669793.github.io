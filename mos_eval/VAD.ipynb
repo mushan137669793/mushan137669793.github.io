{
 "cells": [
  {
   "cell_type": "code",
   "execution_count": 30,
   "id": "3b1450ca-2c51-4ad3-9b6a-4ab0970e0e74",
   "metadata": {
    "tags": []
   },
   "outputs": [
    {
     "name": "stderr",
     "output_type": "stream",
     "text": [
      "Using cache found in /Users/mushan/.cache/torch/hub/snakers4_silero-vad_master\n"
     ]
    }
   ],
   "source": [
    "import torch\n",
    "torch.set_num_threads(1)\n",
    "\n",
    "model, utils = torch.hub.load(repo_or_dir='snakers4/silero-vad', model='silero_vad')\n",
    "(get_speech_timestamps, _, read_audio, _, _) = utils"
   ]
  },
  {
   "cell_type": "code",
   "execution_count": 31,
   "id": "9dbb165a-c4fd-4684-91ad-8ecca41f3f93",
   "metadata": {
    "tags": []
   },
   "outputs": [],
   "source": [
    "from glob import glob\n",
    "from tqdm import tqdm\n",
    "import torchaudio\n",
    "from IPython.display import Audio, display"
   ]
  },
  {
   "cell_type": "code",
   "execution_count": 32,
   "id": "233c1d65-2f9d-438e-91cf-d65f62a5e310",
   "metadata": {
    "tags": []
   },
   "outputs": [
    {
     "data": {
      "text/plain": [
       "559"
      ]
     },
     "execution_count": 32,
     "metadata": {},
     "output_type": "execute_result"
    }
   ],
   "source": [
    "flacs = glob(\"./audio/*/*.flac\")\n",
    "len(flacs)"
   ]
  },
  {
   "cell_type": "code",
   "execution_count": 33,
   "id": "6597518f-2a3e-441e-874c-b8c2b63212c2",
   "metadata": {
    "tags": []
   },
   "outputs": [
    {
     "name": "stderr",
     "output_type": "stream",
     "text": [
      "100%|█████████████████████████████████████████| 559/559 [00:18<00:00, 31.03it/s]\n"
     ]
    }
   ],
   "source": [
    "vs = {}\n",
    "for f in tqdm(flacs):\n",
    "    wav = read_audio(f)\n",
    "    speech_timestamps = get_speech_timestamps(wav, model)\n",
    "    vs[f] = speech_timestamps"
   ]
  },
  {
   "cell_type": "code",
   "execution_count": 35,
   "id": "b74d2a04-c196-41f9-843b-6b895bf7b7fa",
   "metadata": {
    "tags": []
   },
   "outputs": [
    {
     "data": {
      "text/plain": [
       "16000"
      ]
     },
     "execution_count": 35,
     "metadata": {},
     "output_type": "execute_result"
    }
   ],
   "source": [
    "wave, sr = torchaudio.load(\"./audio/ita_dan/4009_11418_000003.xtts.flac\")\n",
    "sr"
   ]
  },
  {
   "cell_type": "code",
   "execution_count": 34,
   "id": "a4b446ab-2e41-4c23-8c19-774dfbaf7da9",
   "metadata": {
    "tags": []
   },
   "outputs": [
    {
     "name": "stdout",
     "output_type": "stream",
     "text": [
      "./audio/ita_ita/7372_6589_000053.our.flac [{'start': 13344, 'end': 214400}]\n",
      "./audio/ita_ita/7372_6589_000105.xtts.flac [{'start': 32, 'end': 46048}, {'start': 48160, 'end': 104416}, {'start': 111648, 'end': 125920}]\n",
      "./audio/ita_ita/7372_6589_000062.xtts.flac [{'start': 32, 'end': 58336}, {'start': 62496, 'end': 90592}, {'start': 94240, 'end': 123872}, {'start': 125984, 'end': 156128}]\n",
      "./audio/ita_ita/7458_6589_000105.our.flac [{'start': 6176, 'end': 53728}, {'start': 56864, 'end': 97760}, {'start': 99872, 'end': 148448}, {'start': 151072, 'end': 189920}]\n",
      "./audio/ita_ita/6698_5281_000128.our.flac [{'start': 13344, 'end': 224640}]\n",
      "./audio/ita_ita/7372_6589_000076.xtts.flac [{'start': 32, 'end': 78816}, {'start': 80928, 'end': 89568}, {'start': 104992, 'end': 119264}, {'start': 121888, 'end': 152544}, {'start': 159264, 'end': 168928}, {'start': 173088, 'end': 259552}]\n"
     ]
    }
   ],
   "source": [
    "c = 0\n",
    "for k, v in vs.items():\n",
    "    print(k, v)\n",
    "    c += 1\n",
    "    if c > 5:   \n",
    "        break"
   ]
  },
  {
   "cell_type": "code",
   "execution_count": 36,
   "id": "db0f2309-ba34-409e-ba05-ca1a58e88903",
   "metadata": {
    "tags": []
   },
   "outputs": [],
   "source": [
    "for k, v in vs.items():\n",
    "    wave, sr = torchaudio.load(k)\n",
    "    st = v[0]['start']\n",
    "    wave = wave[:, st:]\n",
    "    torchaudio.save(k, wave, sample_rate=16000)"
   ]
  },
  {
   "cell_type": "code",
   "execution_count": null,
   "id": "fc0bd117-e1c4-41c9-8076-054ac4598042",
   "metadata": {},
   "outputs": [],
   "source": []
  }
 ],
 "metadata": {
  "kernelspec": {
   "display_name": "Python 3 (ipykernel)",
   "language": "python",
   "name": "python3"
  },
  "language_info": {
   "codemirror_mode": {
    "name": "ipython",
    "version": 3
   },
   "file_extension": ".py",
   "mimetype": "text/x-python",
   "name": "python",
   "nbconvert_exporter": "python",
   "pygments_lexer": "ipython3",
   "version": "3.8.16"
  }
 },
 "nbformat": 4,
 "nbformat_minor": 5
}
